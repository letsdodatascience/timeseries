{
 "cells": [
  {
   "cell_type": "markdown",
   "metadata": {},
   "source": [
    "```statsmodels``` is a Python module that provides classes and functions for the estimation of many different statistical models, as well as for conducting statistical tests, and statistical data exploration. An extensive list of result statistics are available for each estimator. The results are tested against existing statistical packages to ensure that they are correct. The package is released under the open source Modified BSD (3-clause) license. The online documentation is hosted at ```statsmodels.org```."
   ]
  },
  {
   "cell_type": "code",
   "execution_count": 6,
   "metadata": {},
   "outputs": [],
   "source": [
    "# We will display plots right inside Jupyter Notebook\n",
    "%matplotlib inline"
   ]
  },
  {
   "cell_type": "code",
   "execution_count": 7,
   "metadata": {},
   "outputs": [
    {
     "name": "stderr",
     "output_type": "stream",
     "text": [
      "Using TensorFlow backend.\n"
     ]
    }
   ],
   "source": [
    "from imports import * \n",
    "from structured import *"
   ]
  },
  {
   "cell_type": "code",
   "execution_count": 121,
   "metadata": {},
   "outputs": [
    {
     "data": {
      "text/plain": [
       "RendererRegistry.enable('notebook')"
      ]
     },
     "execution_count": 121,
     "metadata": {},
     "output_type": "execute_result"
    }
   ],
   "source": [
    "#for the notebook only (not for JupyterLab) run this command once per session\n",
    "alt.renderers.enable('notebook')"
   ]
  },
  {
   "cell_type": "markdown",
   "metadata": {
    "heading_collapsed": true
   },
   "source": [
    "#### Introduction to Time Series Data"
   ]
  },
  {
   "cell_type": "markdown",
   "metadata": {
    "hidden": true
   },
   "source": [
    "**Time** does play a role in normal machine learning datasets. Predictions are made for new\n",
    "data when the actual outcome may not be known until some future date. The future is being\n",
    "predicted, but all prior observations are treated equally. Perhaps with some very minor temporal\n",
    "dynamics to overcome the idea of concept drift such as only using the last year of observations\n",
    "rather than all data available.\n",
    "A time series dataset is different. *Time series adds an explicit order dependence between\n",
    "observations: a time dimension. This additional dimension is both a constraint and a structure\n",
    "that provides a source of additional information.*"
   ]
  },
  {
   "cell_type": "markdown",
   "metadata": {
    "hidden": true
   },
   "source": [
    "**A time series is a sequence of observations taken sequentially in time.** - *Time Series Analysis: Forecasting and Control.*"
   ]
  },
  {
   "cell_type": "markdown",
   "metadata": {
    "hidden": true
   },
   "source": [
    "```Time Series Jargon```\n",
    "\n",
    "- ```t-n```: A prior of lag time(eg: ```t-1``` for the previous time).\n",
    "- ```t```: A current time and point in difference. \n",
    "- ```t+n```: A future or forecast time (e.g: ```t+1``` for the next time)."
   ]
  },
  {
   "cell_type": "markdown",
   "metadata": {
    "hidden": true
   },
   "source": [
    "*Describing vs. Predicting*"
   ]
  },
  {
   "cell_type": "markdown",
   "metadata": {
    "heading_collapsed": true,
    "hidden": true
   },
   "source": [
    "###### Time Series Analysis"
   ]
  },
  {
   "cell_type": "markdown",
   "metadata": {
    "hidden": true
   },
   "source": [
    "In *descriptive modeling*, or time series analysis, a time series is modeled to determine its components in terms of seasonal patterns, trends, relation to external factors, and the like. [...] In contrast, time series forecasting uses the information in a time series (perhaps with additional information) to forecast future values of that series.\n",
    "\n",
    "Time series analysis involves developing models that best capture or describe an observed time series in order to understand the underlying causes. This field of study seeks the why behind a time series dataset. This often involves making assumptions about the form of the data and decomposing the time series into constitution components. The quality of a descriptive model is determined by how well it describes all available data and the interpretation it provides to better inform the problem domain."
   ]
  },
  {
   "cell_type": "markdown",
   "metadata": {
    "hidden": true
   },
   "source": [
    "The primary objective of time series analysis is to develop mathematical models that provide plausible descriptions from sample data. *-  Page 11, Time Series Analysis and Its Applications: With R Examples.*"
   ]
  },
  {
   "cell_type": "markdown",
   "metadata": {
    "heading_collapsed": true,
    "hidden": true
   },
   "source": [
    "###### Time Series Forecasting"
   ]
  },
  {
   "cell_type": "markdown",
   "metadata": {
    "hidden": true
   },
   "source": [
    "Making predictions about the future is called extrapolation in the classical statistical handling of time series data. More modern fields focus on the topic and refer to it as time series forecasting. Forecasting involves taking models \f",
    "t on historical data and using them to predict future observations. Descriptive models can borrow from the future (i.e. to smooth or remove noise), they only seek to best describe the data. An important distinction in forecasting is that the future is completely unavailable and must only be estimated from what has already happened. The skill of a time series forecasting model is determined by its performance at predicting the future. This is often at the expense of being able to explain why a speci\f",
    "c prediction was made, confidence intervals and even better understanding the underlying causes behind the\n",
    "problem."
   ]
  },
  {
   "cell_type": "markdown",
   "metadata": {
    "heading_collapsed": true,
    "hidden": true
   },
   "source": [
    "###### Components of a Time Series"
   ]
  },
  {
   "cell_type": "markdown",
   "metadata": {
    "hidden": true
   },
   "source": [
    "A time series can be broken down into 4 constituent parts\n",
    "\n",
    "- *Level*: the baseline value for the series if ti were a straight line.\n",
    "- *Trend*: The optional and often linear increasing or decresing behaviour of the series over time.\n",
    "- *Seasonality*: The optional repeating patterns or cycles of behaviour over time. \n",
    "- *Noise*: Thje optional variability in the observations that cannot be explained by the model."
   ]
  },
  {
   "cell_type": "markdown",
   "metadata": {
    "hidden": true
   },
   "source": [
    "The main features of many time series are trends and seasonal variations [...] another\n",
    "important feature of most time series is that observations close together in time tend\n",
    "to be correlated (serially dependent)"
   ]
  },
  {
   "cell_type": "markdown",
   "metadata": {
    "hidden": true
   },
   "source": [
    "**Concerns of Forecasting**: \n",
    "\n",
    "When forecasting, it is important to understand your goal. Use the Socratic method and ask lots\n",
    "of questions to help zoom in on the speci\f",
    "cs of your predictive modeling problem. For example:\n",
    "    \n",
    "1. How much data do you have available and are you able to gather it all together?\n",
    "More data is often more helpful, offering greater opportunity for exploratory data analysis,\n",
    "model testing and tuning, and model fidelity.\n",
    "\n",
    "2. What is the time horizon of predictions that is required? \n",
    "Short, medium or long term? Shorter time horizons are often easier to predict with higher confidence.\n",
    "3. Can forecasts be updated frequently over time or must they be made once and remain static? \n",
    "Updating forecasts as new information becomes available often results in more accurate predictions.\n",
    "4. At what temporal frequency are forecasts required?\n",
    "Often forecasts can be made at a lower or higher frequencies, allowing you to harness down-sampling, and up-sampling\n",
    "of data, which in turn can offer benefits while modeling."
   ]
  },
  {
   "cell_type": "markdown",
   "metadata": {
    "hidden": true
   },
   "source": [
    "Time series data often requires cleaning, scaling, and even transformation. For example:\n",
    "\n",
    "- *Frequency*. Perhaps data is provided at a frequency that is too high to model or is\n",
    "unevenly spaced through time requiring resampling for use in some models.\n",
    "- *Outliers*. Perhaps there are corrupt or extreme outlier values that need to be identi\f",
    "ed\n",
    "and handled.\n",
    "- *Missing*. Perhaps there are gaps or missing data that need to be interpolated or imputed."
   ]
  },
  {
   "cell_type": "markdown",
   "metadata": {
    "hidden": true
   },
   "source": [
    "There is almost an endless supply of time series forecasting problems. Below are 10 examples\n",
    "from a range of industries to make the notions of time series analysis and forecasting more\n",
    "concrete.\n",
    "\n",
    "- Forecasting the corn yield in tons by state each year.\n",
    "- Forecasting whether an EEG trace in seconds indicates a patient is having a seizure or\n",
    "not.\n",
    "- Forecasting the closing price of a stock each day.\n",
    "- Forecasting the birth rate at all hospitals in a city each year.\n",
    "- Forecasting product sales in units sold each day for a store.\n",
    "- Forecasting the number of passengers through a train station each day.\n",
    "- Forecasting unemployment for a state each quarter.\n",
    "- Forecasting utilization demand on a server each hour.\n",
    "- Forecasting the size of the rabbit population in a state each breeding season.\n",
    "- Forecasting the average price of gasoline in a city each day.\n",
    "\n",
    "I expect that you will be able to relate one or more of these examples to your own time\n",
    "series forecasting problems that you would like to address."
   ]
  },
  {
   "cell_type": "markdown",
   "metadata": {
    "heading_collapsed": true,
    "hidden": true
   },
   "source": [
    "##### Time series as Supervised Learning Problem"
   ]
  },
  {
   "cell_type": "markdown",
   "metadata": {
    "hidden": true
   },
   "source": [
    "Time series forecasting can be framed as a supervised learning problem. This re-framing of your time series data allows you access to the suite of standard linear and nonlinear machine learning algorithms on your problem."
   ]
  },
  {
   "cell_type": "markdown",
   "metadata": {
    "hidden": true
   },
   "source": [
    "**Sliding Window**"
   ]
  },
  {
   "cell_type": "markdown",
   "metadata": {
    "hidden": true
   },
   "source": [
    "The use of prior time steps to predict the next time step is called the *sliding window method*.\n",
    "For short, it may be called the window method in some literature. In statistics and time series\n",
    "analysis, this is called a *lag or lag method*. The number of previous time steps is called the\n",
    "window width or size of the lag. This sliding window is the basis for how we can turn any time\n",
    "series dataset into a supervised learning problem. From this simple example, we can notice a\n",
    "few things:"
   ]
  },
  {
   "cell_type": "markdown",
   "metadata": {
    "hidden": true
   },
   "source": [
    "We can see how this can work to turn a time series into either a regression or a classi\f",
    "cation\n",
    "supervised learning problem for real-valued or labeled time series values.\n",
    "\n",
    "- We can see how once a time series dataset is prepared this way that any of the standard linear and nonlinear machine learning algorithms may be applied, as long as the order of the rows is preserved.\n",
    "- We can see how the width sliding window can be increased to include more previous time steps.\n",
    "- We can see how the sliding window approach can be used on a time series that has more than one value, or so-called multivariate time series."
   ]
  },
  {
   "cell_type": "markdown",
   "metadata": {
    "hidden": true
   },
   "source": [
    "univariate_timeseries             |  univariate_timeseries_supervised\n",
    ":-------------------------:|:-------------------------:\n",
    "![](./univariate_timeseries.PNG) | ![](./univariate_timeseries_supervised.PNG)"
   ]
  },
  {
   "cell_type": "markdown",
   "metadata": {
    "hidden": true
   },
   "source": [
    "Multivariate timeseries turned into supervised problem."
   ]
  },
  {
   "cell_type": "markdown",
   "metadata": {
    "hidden": true
   },
   "source": [
    "multivariate_timeseries             |  multivariate_timeseries_supervised\n",
    ":-------------------------:|:-------------------------:\n",
    "![](./multivariate_timeseries.PNG)  |  ![](./multivariate_timeseries_supervised.PNG)"
   ]
  },
  {
   "cell_type": "markdown",
   "metadata": {
    "hidden": true
   },
   "source": [
    "- **Univariate Time Series**: These are datasets where only a single variable is observed at each time, such as temperature each hour. The example in the previous section is a univariate time series dataset.\n",
    "\n",
    "\n",
    "- **Multivariate Time Series**: These are datasets where two or more variables are observed at each time."
   ]
  },
  {
   "cell_type": "markdown",
   "metadata": {
    "hidden": true
   },
   "source": [
    "Supervised learning is the most popular way of framing problems for machine learning as a collection of observations with inputs and outputs. Sliding window is the way to restructure a time series dataset as a supervised learning problem. Multivariate and multi-step forecasting time series can also be framed as supervised\n",
    "learning using the sliding window method."
   ]
  },
  {
   "cell_type": "markdown",
   "metadata": {},
   "source": [
    "#### Data Prepration"
   ]
  },
  {
   "cell_type": "markdown",
   "metadata": {
    "heading_collapsed": true
   },
   "source": [
    "##### Chapter 4: Load and Explore Time Series Data"
   ]
  },
  {
   "cell_type": "code",
   "execution_count": 9,
   "metadata": {
    "hidden": true
   },
   "outputs": [],
   "source": [
    "series = pd.read_csv('./daily-total-female-births-in-cal.csv', header=0, index_col=0, parse_dates=True, squeeze=True)"
   ]
  },
  {
   "cell_type": "code",
   "execution_count": 11,
   "metadata": {
    "hidden": true
   },
   "outputs": [
    {
     "data": {
      "text/plain": [
       "pandas.core.series.Series"
      ]
     },
     "execution_count": 11,
     "metadata": {},
     "output_type": "execute_result"
    }
   ],
   "source": [
    "type(series)"
   ]
  },
  {
   "cell_type": "code",
   "execution_count": 12,
   "metadata": {
    "hidden": true
   },
   "outputs": [
    {
     "data": {
      "text/plain": [
       "Date\n",
       "1959-01-01    35\n",
       "1959-01-02    32\n",
       "1959-01-03    30\n",
       "1959-01-04    31\n",
       "1959-01-05    44\n",
       "Name: Daily total female births in California, 1959, dtype: int64"
      ]
     },
     "execution_count": 12,
     "metadata": {},
     "output_type": "execute_result"
    }
   ],
   "source": [
    "series.head()"
   ]
  },
  {
   "cell_type": "code",
   "execution_count": 14,
   "metadata": {
    "hidden": true
   },
   "outputs": [
    {
     "data": {
      "text/plain": [
       "(366, 366)"
      ]
     },
     "execution_count": 14,
     "metadata": {},
     "output_type": "execute_result"
    }
   ],
   "source": [
    "len(series), series.size"
   ]
  },
  {
   "cell_type": "code",
   "execution_count": 16,
   "metadata": {
    "hidden": true
   },
   "outputs": [
    {
     "data": {
      "text/plain": [
       "count     366.000000\n",
       "mean       47.218579\n",
       "std       100.472534\n",
       "min        23.000000\n",
       "25%        37.000000\n",
       "50%        42.000000\n",
       "75%        46.000000\n",
       "max      1959.000000\n",
       "Name: Daily total female births in California, 1959, dtype: float64"
      ]
     },
     "execution_count": 16,
     "metadata": {},
     "output_type": "execute_result"
    }
   ],
   "source": [
    "series.describe()"
   ]
  },
  {
   "cell_type": "code",
   "execution_count": 20,
   "metadata": {
    "hidden": true
   },
   "outputs": [
    {
     "data": {
      "text/plain": [
       "35"
      ]
     },
     "execution_count": 20,
     "metadata": {},
     "output_type": "execute_result"
    }
   ],
   "source": [
    "series['1959-01-01']"
   ]
  },
  {
   "cell_type": "markdown",
   "metadata": {
    "hidden": true
   },
   "source": [
    "Time Series data must be re-framed as a supervised learning dataset before we can start using machine learning algorithms. There is no concept of input and output features in time series. Instead, we must choose the variable to be predicted and use feature engineering to construct all of the inputs that will be used to make predictions for future time steps."
   ]
  },
  {
   "cell_type": "markdown",
   "metadata": {
    "heading_collapsed": true
   },
   "source": [
    "##### Chapter 5: Basic Feature Engineering"
   ]
  },
  {
   "cell_type": "markdown",
   "metadata": {
    "hidden": true
   },
   "source": [
    "At first we will look into three classes of features that we can create from out timeseries data. \n",
    "\n",
    "- **Date Time Features**: these are components of the timestep itself for each observation.\n",
    "- **Lag Features**: these values at prior time steps. \n",
    "- **Window Features**: these are a summary of values over a fixed window of prior time steps."
   ]
  },
  {
   "cell_type": "markdown",
   "metadata": {
    "hidden": true
   },
   "source": [
    "The goal of feature engineering is to provide strong and ideally simple relationships between\n",
    "new input features and the output feature for the supervised learning algorithm to model. In\n",
    "effect, we are moving complexity.\n",
    "\n",
    "Complexity exists in the relationships between the input and output data. In the case of time\n",
    "series, there is no concept of input and output variables; we must invent these too and frame\n",
    "the supervised learning problem from scratch. We may lean on the capability of sophisticated\n",
    "models to decipher the complexity of the problem. We can make the job for these models easier\n",
    "(and even use simpler models) if we can better expose the inherent relationship between inputs\n",
    "and outputs in the data.\n",
    "\n",
    "The diffculty is that we do not know the underlying inherent functional relationship between\n",
    "inputs and outputs that we're trying to expose. If we did know, we probably would not need\n",
    "machine learning. Instead, the only feedback we have is the performance of models developed\n",
    "on the supervised learning datasets or views of the problem we create. In e\u000b",
    "ect, the best default\n",
    "strategy is to use all the knowledge available to create many good datasets from your time series\n",
    "dataset and use model performance (and other project requirements) to help determine what\n",
    "good features and good views of your problem happen to be.\n",
    "\n",
    "For clarity, we will focus on a univariate (one variable) time series dataset in the examples,\n",
    "but these methods are just as applicable to multivariate time series problems. Next, let's take a\n",
    "look at the dataset we will use in this tutorial."
   ]
  },
  {
   "cell_type": "code",
   "execution_count": 69,
   "metadata": {
    "hidden": true
   },
   "outputs": [],
   "source": [
    "series = pd.read_csv('./daily-minimum-temperatures-in-me.csv', header =0 , index_col=0, parse_dates = True, squeeze=True)"
   ]
  },
  {
   "cell_type": "code",
   "execution_count": 70,
   "metadata": {
    "hidden": true
   },
   "outputs": [
    {
     "data": {
      "text/plain": [
       "Date\n",
       "1981-01-01    20.7\n",
       "1981-02-01    17.9\n",
       "1981-03-01    18.8\n",
       "1981-04-01    14.6\n",
       "1981-05-01    15.8\n",
       "Name: Daily minimum temperatures in Melbourne, Australia, 1981-1990, dtype: object"
      ]
     },
     "execution_count": 70,
     "metadata": {},
     "output_type": "execute_result"
    }
   ],
   "source": [
    "series.head()"
   ]
  },
  {
   "cell_type": "code",
   "execution_count": 25,
   "metadata": {
    "hidden": true
   },
   "outputs": [
    {
     "data": {
      "text/plain": [
       "3650"
      ]
     },
     "execution_count": 25,
     "metadata": {},
     "output_type": "execute_result"
    }
   ],
   "source": [
    "series.size"
   ]
  },
  {
   "cell_type": "code",
   "execution_count": 39,
   "metadata": {
    "hidden": true
   },
   "outputs": [
    {
     "data": {
      "text/plain": [
       "pandas.core.series.Series"
      ]
     },
     "execution_count": 39,
     "metadata": {},
     "output_type": "execute_result"
    }
   ],
   "source": [
    "type(series)"
   ]
  },
  {
   "cell_type": "code",
   "execution_count": 40,
   "metadata": {
    "hidden": true
   },
   "outputs": [],
   "source": [
    "df = pd.DataFrame()"
   ]
  },
  {
   "cell_type": "code",
   "execution_count": 41,
   "metadata": {
    "hidden": true
   },
   "outputs": [],
   "source": [
    "df['month'] = [series.index[i].month for i in range(len(series))]\n",
    "df['day'] = [series.index[i].day for i in range(len(series))]\n",
    "df['tempreature'] = [series[i] for i in range(len(series))]"
   ]
  },
  {
   "cell_type": "markdown",
   "metadata": {
    "hidden": true
   },
   "source": [
    "- Minutes elapsed for the day.\n",
    "- Hour of day.\n",
    "- Business hours or not.\n",
    "- Weekend or not.\n",
    "- Season of the year.\n",
    "- Business quarter of the year.\n",
    "- Daylight savings or not.\n",
    "- Public holiday or not.\n",
    "- Leap year or not."
   ]
  },
  {
   "cell_type": "markdown",
   "metadata": {
    "hidden": true
   },
   "source": [
    "From these examples, you can see that you're not restricted to the raw integer values. You\n",
    "can use binary \n",
    "ag features as well, like whether or not the observation was recorded on a public\n",
    "holiday. In the case of the minimum temperature dataset, maybe the season would be more\n",
    "relevant. It is creating domain-speci\f",
    "c features like this that are more likely to add value to\n",
    "your model. Date-time based features are a good start, but it is often a lot more useful to\n",
    "include the values at previous time steps. These are called lagged values and we will look at\n",
    "adding these features in the next section."
   ]
  },
  {
   "cell_type": "markdown",
   "metadata": {
    "hidden": true
   },
   "source": [
    "**Lag Features**"
   ]
  },
  {
   "cell_type": "markdown",
   "metadata": {
    "hidden": true
   },
   "source": [
    "Lag features are the classical way that time series forecasting problems are transformed into\n",
    "supervised learning problems. The simplest approach is to predict the value at the next time\n",
    "(t+1) given the value at the current time (t). The supervised learning problem with shifted\n",
    "values looks as follows: "
   ]
  },
  {
   "cell_type": "markdown",
   "metadata": {
    "hidden": true
   },
   "source": [
    "![](./lag_overview.PNG)"
   ]
  },
  {
   "cell_type": "markdown",
   "metadata": {
    "hidden": true
   },
   "source": [
    "The Pandas library provides the ```shift()``` function1 to help create these shifted or lag\n",
    "features from a time series dataset. Shifting the dataset by 1 creates the t column, adding a NaN\n",
    "(unknown) value for the first row. The time series dataset without a shift represents the t+1.\n",
    "Let's make this concrete with an example. The first 3 values of the temperature dataset are\n",
    "20.7, 17.9, and 18.8. The shifted and unshifted lists of temperatures for the first 3 observations\n",
    "are therefore:"
   ]
  },
  {
   "cell_type": "markdown",
   "metadata": {
    "hidden": true
   },
   "source": [
    "![](./lag_pandas_shift.PNG)"
   ]
  },
  {
   "cell_type": "markdown",
   "metadata": {
    "hidden": true
   },
   "source": [
    "We can concatenate the shifted columns together into a new DataFrame using the ```concat()``` function along the ```column axis (axis=1)```. Putting this all together, below is an example of"
   ]
  },
  {
   "cell_type": "code",
   "execution_count": 47,
   "metadata": {
    "hidden": true
   },
   "outputs": [],
   "source": [
    "temps = pd.DataFrame(series.values)"
   ]
  },
  {
   "cell_type": "code",
   "execution_count": 48,
   "metadata": {
    "hidden": true,
    "scrolled": true
   },
   "outputs": [
    {
     "data": {
      "text/html": [
       "<div>\n",
       "<style scoped>\n",
       "    .dataframe tbody tr th:only-of-type {\n",
       "        vertical-align: middle;\n",
       "    }\n",
       "\n",
       "    .dataframe tbody tr th {\n",
       "        vertical-align: top;\n",
       "    }\n",
       "\n",
       "    .dataframe thead th {\n",
       "        text-align: right;\n",
       "    }\n",
       "</style>\n",
       "<table border=\"1\" class=\"dataframe\">\n",
       "  <thead>\n",
       "    <tr style=\"text-align: right;\">\n",
       "      <th></th>\n",
       "      <th>0</th>\n",
       "    </tr>\n",
       "  </thead>\n",
       "  <tbody>\n",
       "    <tr>\n",
       "      <th>0</th>\n",
       "      <td>20.7</td>\n",
       "    </tr>\n",
       "    <tr>\n",
       "      <th>1</th>\n",
       "      <td>17.9</td>\n",
       "    </tr>\n",
       "    <tr>\n",
       "      <th>2</th>\n",
       "      <td>18.8</td>\n",
       "    </tr>\n",
       "    <tr>\n",
       "      <th>3</th>\n",
       "      <td>14.6</td>\n",
       "    </tr>\n",
       "    <tr>\n",
       "      <th>4</th>\n",
       "      <td>15.8</td>\n",
       "    </tr>\n",
       "    <tr>\n",
       "      <th>5</th>\n",
       "      <td>15.8</td>\n",
       "    </tr>\n",
       "    <tr>\n",
       "      <th>6</th>\n",
       "      <td>15.8</td>\n",
       "    </tr>\n",
       "    <tr>\n",
       "      <th>7</th>\n",
       "      <td>17.4</td>\n",
       "    </tr>\n",
       "    <tr>\n",
       "      <th>8</th>\n",
       "      <td>21.8</td>\n",
       "    </tr>\n",
       "    <tr>\n",
       "      <th>9</th>\n",
       "      <td>20</td>\n",
       "    </tr>\n",
       "    <tr>\n",
       "      <th>10</th>\n",
       "      <td>16.2</td>\n",
       "    </tr>\n",
       "    <tr>\n",
       "      <th>11</th>\n",
       "      <td>13.3</td>\n",
       "    </tr>\n",
       "    <tr>\n",
       "      <th>12</th>\n",
       "      <td>16.7</td>\n",
       "    </tr>\n",
       "    <tr>\n",
       "      <th>13</th>\n",
       "      <td>21.5</td>\n",
       "    </tr>\n",
       "    <tr>\n",
       "      <th>14</th>\n",
       "      <td>25</td>\n",
       "    </tr>\n",
       "    <tr>\n",
       "      <th>15</th>\n",
       "      <td>20.7</td>\n",
       "    </tr>\n",
       "    <tr>\n",
       "      <th>16</th>\n",
       "      <td>20.6</td>\n",
       "    </tr>\n",
       "    <tr>\n",
       "      <th>17</th>\n",
       "      <td>24.8</td>\n",
       "    </tr>\n",
       "    <tr>\n",
       "      <th>18</th>\n",
       "      <td>17.7</td>\n",
       "    </tr>\n",
       "    <tr>\n",
       "      <th>19</th>\n",
       "      <td>15.5</td>\n",
       "    </tr>\n",
       "    <tr>\n",
       "      <th>20</th>\n",
       "      <td>18.2</td>\n",
       "    </tr>\n",
       "    <tr>\n",
       "      <th>21</th>\n",
       "      <td>12.1</td>\n",
       "    </tr>\n",
       "    <tr>\n",
       "      <th>22</th>\n",
       "      <td>14.4</td>\n",
       "    </tr>\n",
       "    <tr>\n",
       "      <th>23</th>\n",
       "      <td>16</td>\n",
       "    </tr>\n",
       "    <tr>\n",
       "      <th>24</th>\n",
       "      <td>16.5</td>\n",
       "    </tr>\n",
       "    <tr>\n",
       "      <th>25</th>\n",
       "      <td>18.7</td>\n",
       "    </tr>\n",
       "    <tr>\n",
       "      <th>26</th>\n",
       "      <td>19.4</td>\n",
       "    </tr>\n",
       "    <tr>\n",
       "      <th>27</th>\n",
       "      <td>17.2</td>\n",
       "    </tr>\n",
       "    <tr>\n",
       "      <th>28</th>\n",
       "      <td>15.5</td>\n",
       "    </tr>\n",
       "    <tr>\n",
       "      <th>29</th>\n",
       "      <td>15.1</td>\n",
       "    </tr>\n",
       "    <tr>\n",
       "      <th>...</th>\n",
       "      <td>...</td>\n",
       "    </tr>\n",
       "    <tr>\n",
       "      <th>3620</th>\n",
       "      <td>13.2</td>\n",
       "    </tr>\n",
       "    <tr>\n",
       "      <th>3621</th>\n",
       "      <td>16.2</td>\n",
       "    </tr>\n",
       "    <tr>\n",
       "      <th>3622</th>\n",
       "      <td>17.3</td>\n",
       "    </tr>\n",
       "    <tr>\n",
       "      <th>3623</th>\n",
       "      <td>20.5</td>\n",
       "    </tr>\n",
       "    <tr>\n",
       "      <th>3624</th>\n",
       "      <td>20.2</td>\n",
       "    </tr>\n",
       "    <tr>\n",
       "      <th>3625</th>\n",
       "      <td>19.4</td>\n",
       "    </tr>\n",
       "    <tr>\n",
       "      <th>3626</th>\n",
       "      <td>15.5</td>\n",
       "    </tr>\n",
       "    <tr>\n",
       "      <th>3627</th>\n",
       "      <td>14.1</td>\n",
       "    </tr>\n",
       "    <tr>\n",
       "      <th>3628</th>\n",
       "      <td>11</td>\n",
       "    </tr>\n",
       "    <tr>\n",
       "      <th>3629</th>\n",
       "      <td>11.1</td>\n",
       "    </tr>\n",
       "    <tr>\n",
       "      <th>3630</th>\n",
       "      <td>14</td>\n",
       "    </tr>\n",
       "    <tr>\n",
       "      <th>3631</th>\n",
       "      <td>11.4</td>\n",
       "    </tr>\n",
       "    <tr>\n",
       "      <th>3632</th>\n",
       "      <td>12.5</td>\n",
       "    </tr>\n",
       "    <tr>\n",
       "      <th>3633</th>\n",
       "      <td>13.4</td>\n",
       "    </tr>\n",
       "    <tr>\n",
       "      <th>3634</th>\n",
       "      <td>13.6</td>\n",
       "    </tr>\n",
       "    <tr>\n",
       "      <th>3635</th>\n",
       "      <td>13.9</td>\n",
       "    </tr>\n",
       "    <tr>\n",
       "      <th>3636</th>\n",
       "      <td>17.2</td>\n",
       "    </tr>\n",
       "    <tr>\n",
       "      <th>3637</th>\n",
       "      <td>14.7</td>\n",
       "    </tr>\n",
       "    <tr>\n",
       "      <th>3638</th>\n",
       "      <td>15.4</td>\n",
       "    </tr>\n",
       "    <tr>\n",
       "      <th>3639</th>\n",
       "      <td>13.1</td>\n",
       "    </tr>\n",
       "    <tr>\n",
       "      <th>3640</th>\n",
       "      <td>13.2</td>\n",
       "    </tr>\n",
       "    <tr>\n",
       "      <th>3641</th>\n",
       "      <td>13.9</td>\n",
       "    </tr>\n",
       "    <tr>\n",
       "      <th>3642</th>\n",
       "      <td>10</td>\n",
       "    </tr>\n",
       "    <tr>\n",
       "      <th>3643</th>\n",
       "      <td>12.9</td>\n",
       "    </tr>\n",
       "    <tr>\n",
       "      <th>3644</th>\n",
       "      <td>14.6</td>\n",
       "    </tr>\n",
       "    <tr>\n",
       "      <th>3645</th>\n",
       "      <td>14</td>\n",
       "    </tr>\n",
       "    <tr>\n",
       "      <th>3646</th>\n",
       "      <td>13.6</td>\n",
       "    </tr>\n",
       "    <tr>\n",
       "      <th>3647</th>\n",
       "      <td>13.5</td>\n",
       "    </tr>\n",
       "    <tr>\n",
       "      <th>3648</th>\n",
       "      <td>15.7</td>\n",
       "    </tr>\n",
       "    <tr>\n",
       "      <th>3649</th>\n",
       "      <td>13</td>\n",
       "    </tr>\n",
       "  </tbody>\n",
       "</table>\n",
       "<p>3650 rows × 1 columns</p>\n",
       "</div>"
      ],
      "text/plain": [
       "         0\n",
       "0     20.7\n",
       "1     17.9\n",
       "2     18.8\n",
       "3     14.6\n",
       "4     15.8\n",
       "5     15.8\n",
       "6     15.8\n",
       "7     17.4\n",
       "8     21.8\n",
       "9       20\n",
       "10    16.2\n",
       "11    13.3\n",
       "12    16.7\n",
       "13    21.5\n",
       "14      25\n",
       "15    20.7\n",
       "16    20.6\n",
       "17    24.8\n",
       "18    17.7\n",
       "19    15.5\n",
       "20    18.2\n",
       "21    12.1\n",
       "22    14.4\n",
       "23      16\n",
       "24    16.5\n",
       "25    18.7\n",
       "26    19.4\n",
       "27    17.2\n",
       "28    15.5\n",
       "29    15.1\n",
       "...    ...\n",
       "3620  13.2\n",
       "3621  16.2\n",
       "3622  17.3\n",
       "3623  20.5\n",
       "3624  20.2\n",
       "3625  19.4\n",
       "3626  15.5\n",
       "3627  14.1\n",
       "3628    11\n",
       "3629  11.1\n",
       "3630    14\n",
       "3631  11.4\n",
       "3632  12.5\n",
       "3633  13.4\n",
       "3634  13.6\n",
       "3635  13.9\n",
       "3636  17.2\n",
       "3637  14.7\n",
       "3638  15.4\n",
       "3639  13.1\n",
       "3640  13.2\n",
       "3641  13.9\n",
       "3642    10\n",
       "3643  12.9\n",
       "3644  14.6\n",
       "3645    14\n",
       "3646  13.6\n",
       "3647  13.5\n",
       "3648  15.7\n",
       "3649    13\n",
       "\n",
       "[3650 rows x 1 columns]"
      ]
     },
     "execution_count": 48,
     "metadata": {},
     "output_type": "execute_result"
    }
   ],
   "source": [
    "temps"
   ]
  },
  {
   "cell_type": "code",
   "execution_count": 49,
   "metadata": {
    "hidden": true
   },
   "outputs": [],
   "source": [
    "df = pd.concat([temps.shift(1), temps], axis=1)\n",
    "df.columns = ['t', 't+1']"
   ]
  },
  {
   "cell_type": "code",
   "execution_count": 51,
   "metadata": {
    "hidden": true
   },
   "outputs": [
    {
     "data": {
      "text/html": [
       "<div>\n",
       "<style scoped>\n",
       "    .dataframe tbody tr th:only-of-type {\n",
       "        vertical-align: middle;\n",
       "    }\n",
       "\n",
       "    .dataframe tbody tr th {\n",
       "        vertical-align: top;\n",
       "    }\n",
       "\n",
       "    .dataframe thead th {\n",
       "        text-align: right;\n",
       "    }\n",
       "</style>\n",
       "<table border=\"1\" class=\"dataframe\">\n",
       "  <thead>\n",
       "    <tr style=\"text-align: right;\">\n",
       "      <th></th>\n",
       "      <th>t</th>\n",
       "      <th>t+1</th>\n",
       "    </tr>\n",
       "  </thead>\n",
       "  <tbody>\n",
       "    <tr>\n",
       "      <th>0</th>\n",
       "      <td>NaN</td>\n",
       "      <td>20.7</td>\n",
       "    </tr>\n",
       "    <tr>\n",
       "      <th>1</th>\n",
       "      <td>20.7</td>\n",
       "      <td>17.9</td>\n",
       "    </tr>\n",
       "    <tr>\n",
       "      <th>2</th>\n",
       "      <td>17.9</td>\n",
       "      <td>18.8</td>\n",
       "    </tr>\n",
       "    <tr>\n",
       "      <th>3</th>\n",
       "      <td>18.8</td>\n",
       "      <td>14.6</td>\n",
       "    </tr>\n",
       "    <tr>\n",
       "      <th>4</th>\n",
       "      <td>14.6</td>\n",
       "      <td>15.8</td>\n",
       "    </tr>\n",
       "  </tbody>\n",
       "</table>\n",
       "</div>"
      ],
      "text/plain": [
       "      t   t+1\n",
       "0   NaN  20.7\n",
       "1  20.7  17.9\n",
       "2  17.9  18.8\n",
       "3  18.8  14.6\n",
       "4  14.6  15.8"
      ]
     },
     "execution_count": 51,
     "metadata": {},
     "output_type": "execute_result"
    }
   ],
   "source": [
    "df.head()"
   ]
  },
  {
   "cell_type": "markdown",
   "metadata": {
    "hidden": true
   },
   "source": [
    "more lag terms"
   ]
  },
  {
   "cell_type": "code",
   "execution_count": 53,
   "metadata": {
    "hidden": true
   },
   "outputs": [],
   "source": [
    "temps = pd.DataFrame(series.values)\n",
    "dataframe = pd.concat([temps.shift(3), temps.shift(2), temps.shift(1), temps], axis=1)\n",
    "dataframe.columns = ['t-2', 't-1', 't', 't+1']"
   ]
  },
  {
   "cell_type": "code",
   "execution_count": 54,
   "metadata": {
    "hidden": true,
    "scrolled": true
   },
   "outputs": [
    {
     "data": {
      "text/html": [
       "<div>\n",
       "<style scoped>\n",
       "    .dataframe tbody tr th:only-of-type {\n",
       "        vertical-align: middle;\n",
       "    }\n",
       "\n",
       "    .dataframe tbody tr th {\n",
       "        vertical-align: top;\n",
       "    }\n",
       "\n",
       "    .dataframe thead th {\n",
       "        text-align: right;\n",
       "    }\n",
       "</style>\n",
       "<table border=\"1\" class=\"dataframe\">\n",
       "  <thead>\n",
       "    <tr style=\"text-align: right;\">\n",
       "      <th></th>\n",
       "      <th>t-2</th>\n",
       "      <th>t-1</th>\n",
       "      <th>t</th>\n",
       "      <th>t+1</th>\n",
       "    </tr>\n",
       "  </thead>\n",
       "  <tbody>\n",
       "    <tr>\n",
       "      <th>0</th>\n",
       "      <td>NaN</td>\n",
       "      <td>NaN</td>\n",
       "      <td>NaN</td>\n",
       "      <td>20.7</td>\n",
       "    </tr>\n",
       "    <tr>\n",
       "      <th>1</th>\n",
       "      <td>NaN</td>\n",
       "      <td>NaN</td>\n",
       "      <td>20.7</td>\n",
       "      <td>17.9</td>\n",
       "    </tr>\n",
       "    <tr>\n",
       "      <th>2</th>\n",
       "      <td>NaN</td>\n",
       "      <td>20.7</td>\n",
       "      <td>17.9</td>\n",
       "      <td>18.8</td>\n",
       "    </tr>\n",
       "    <tr>\n",
       "      <th>3</th>\n",
       "      <td>20.7</td>\n",
       "      <td>17.9</td>\n",
       "      <td>18.8</td>\n",
       "      <td>14.6</td>\n",
       "    </tr>\n",
       "    <tr>\n",
       "      <th>4</th>\n",
       "      <td>17.9</td>\n",
       "      <td>18.8</td>\n",
       "      <td>14.6</td>\n",
       "      <td>15.8</td>\n",
       "    </tr>\n",
       "    <tr>\n",
       "      <th>5</th>\n",
       "      <td>18.8</td>\n",
       "      <td>14.6</td>\n",
       "      <td>15.8</td>\n",
       "      <td>15.8</td>\n",
       "    </tr>\n",
       "    <tr>\n",
       "      <th>6</th>\n",
       "      <td>14.6</td>\n",
       "      <td>15.8</td>\n",
       "      <td>15.8</td>\n",
       "      <td>15.8</td>\n",
       "    </tr>\n",
       "    <tr>\n",
       "      <th>7</th>\n",
       "      <td>15.8</td>\n",
       "      <td>15.8</td>\n",
       "      <td>15.8</td>\n",
       "      <td>17.4</td>\n",
       "    </tr>\n",
       "    <tr>\n",
       "      <th>8</th>\n",
       "      <td>15.8</td>\n",
       "      <td>15.8</td>\n",
       "      <td>17.4</td>\n",
       "      <td>21.8</td>\n",
       "    </tr>\n",
       "    <tr>\n",
       "      <th>9</th>\n",
       "      <td>15.8</td>\n",
       "      <td>17.4</td>\n",
       "      <td>21.8</td>\n",
       "      <td>20</td>\n",
       "    </tr>\n",
       "    <tr>\n",
       "      <th>10</th>\n",
       "      <td>17.4</td>\n",
       "      <td>21.8</td>\n",
       "      <td>20</td>\n",
       "      <td>16.2</td>\n",
       "    </tr>\n",
       "    <tr>\n",
       "      <th>11</th>\n",
       "      <td>21.8</td>\n",
       "      <td>20</td>\n",
       "      <td>16.2</td>\n",
       "      <td>13.3</td>\n",
       "    </tr>\n",
       "    <tr>\n",
       "      <th>12</th>\n",
       "      <td>20</td>\n",
       "      <td>16.2</td>\n",
       "      <td>13.3</td>\n",
       "      <td>16.7</td>\n",
       "    </tr>\n",
       "    <tr>\n",
       "      <th>13</th>\n",
       "      <td>16.2</td>\n",
       "      <td>13.3</td>\n",
       "      <td>16.7</td>\n",
       "      <td>21.5</td>\n",
       "    </tr>\n",
       "    <tr>\n",
       "      <th>14</th>\n",
       "      <td>13.3</td>\n",
       "      <td>16.7</td>\n",
       "      <td>21.5</td>\n",
       "      <td>25</td>\n",
       "    </tr>\n",
       "    <tr>\n",
       "      <th>15</th>\n",
       "      <td>16.7</td>\n",
       "      <td>21.5</td>\n",
       "      <td>25</td>\n",
       "      <td>20.7</td>\n",
       "    </tr>\n",
       "    <tr>\n",
       "      <th>16</th>\n",
       "      <td>21.5</td>\n",
       "      <td>25</td>\n",
       "      <td>20.7</td>\n",
       "      <td>20.6</td>\n",
       "    </tr>\n",
       "    <tr>\n",
       "      <th>17</th>\n",
       "      <td>25</td>\n",
       "      <td>20.7</td>\n",
       "      <td>20.6</td>\n",
       "      <td>24.8</td>\n",
       "    </tr>\n",
       "    <tr>\n",
       "      <th>18</th>\n",
       "      <td>20.7</td>\n",
       "      <td>20.6</td>\n",
       "      <td>24.8</td>\n",
       "      <td>17.7</td>\n",
       "    </tr>\n",
       "    <tr>\n",
       "      <th>19</th>\n",
       "      <td>20.6</td>\n",
       "      <td>24.8</td>\n",
       "      <td>17.7</td>\n",
       "      <td>15.5</td>\n",
       "    </tr>\n",
       "    <tr>\n",
       "      <th>20</th>\n",
       "      <td>24.8</td>\n",
       "      <td>17.7</td>\n",
       "      <td>15.5</td>\n",
       "      <td>18.2</td>\n",
       "    </tr>\n",
       "    <tr>\n",
       "      <th>21</th>\n",
       "      <td>17.7</td>\n",
       "      <td>15.5</td>\n",
       "      <td>18.2</td>\n",
       "      <td>12.1</td>\n",
       "    </tr>\n",
       "    <tr>\n",
       "      <th>22</th>\n",
       "      <td>15.5</td>\n",
       "      <td>18.2</td>\n",
       "      <td>12.1</td>\n",
       "      <td>14.4</td>\n",
       "    </tr>\n",
       "    <tr>\n",
       "      <th>23</th>\n",
       "      <td>18.2</td>\n",
       "      <td>12.1</td>\n",
       "      <td>14.4</td>\n",
       "      <td>16</td>\n",
       "    </tr>\n",
       "    <tr>\n",
       "      <th>24</th>\n",
       "      <td>12.1</td>\n",
       "      <td>14.4</td>\n",
       "      <td>16</td>\n",
       "      <td>16.5</td>\n",
       "    </tr>\n",
       "    <tr>\n",
       "      <th>25</th>\n",
       "      <td>14.4</td>\n",
       "      <td>16</td>\n",
       "      <td>16.5</td>\n",
       "      <td>18.7</td>\n",
       "    </tr>\n",
       "    <tr>\n",
       "      <th>26</th>\n",
       "      <td>16</td>\n",
       "      <td>16.5</td>\n",
       "      <td>18.7</td>\n",
       "      <td>19.4</td>\n",
       "    </tr>\n",
       "    <tr>\n",
       "      <th>27</th>\n",
       "      <td>16.5</td>\n",
       "      <td>18.7</td>\n",
       "      <td>19.4</td>\n",
       "      <td>17.2</td>\n",
       "    </tr>\n",
       "    <tr>\n",
       "      <th>28</th>\n",
       "      <td>18.7</td>\n",
       "      <td>19.4</td>\n",
       "      <td>17.2</td>\n",
       "      <td>15.5</td>\n",
       "    </tr>\n",
       "    <tr>\n",
       "      <th>29</th>\n",
       "      <td>19.4</td>\n",
       "      <td>17.2</td>\n",
       "      <td>15.5</td>\n",
       "      <td>15.1</td>\n",
       "    </tr>\n",
       "    <tr>\n",
       "      <th>...</th>\n",
       "      <td>...</td>\n",
       "      <td>...</td>\n",
       "      <td>...</td>\n",
       "      <td>...</td>\n",
       "    </tr>\n",
       "    <tr>\n",
       "      <th>3620</th>\n",
       "      <td>14.7</td>\n",
       "      <td>12.7</td>\n",
       "      <td>13.3</td>\n",
       "      <td>13.2</td>\n",
       "    </tr>\n",
       "    <tr>\n",
       "      <th>3621</th>\n",
       "      <td>12.7</td>\n",
       "      <td>13.3</td>\n",
       "      <td>13.2</td>\n",
       "      <td>16.2</td>\n",
       "    </tr>\n",
       "    <tr>\n",
       "      <th>3622</th>\n",
       "      <td>13.3</td>\n",
       "      <td>13.2</td>\n",
       "      <td>16.2</td>\n",
       "      <td>17.3</td>\n",
       "    </tr>\n",
       "    <tr>\n",
       "      <th>3623</th>\n",
       "      <td>13.2</td>\n",
       "      <td>16.2</td>\n",
       "      <td>17.3</td>\n",
       "      <td>20.5</td>\n",
       "    </tr>\n",
       "    <tr>\n",
       "      <th>3624</th>\n",
       "      <td>16.2</td>\n",
       "      <td>17.3</td>\n",
       "      <td>20.5</td>\n",
       "      <td>20.2</td>\n",
       "    </tr>\n",
       "    <tr>\n",
       "      <th>3625</th>\n",
       "      <td>17.3</td>\n",
       "      <td>20.5</td>\n",
       "      <td>20.2</td>\n",
       "      <td>19.4</td>\n",
       "    </tr>\n",
       "    <tr>\n",
       "      <th>3626</th>\n",
       "      <td>20.5</td>\n",
       "      <td>20.2</td>\n",
       "      <td>19.4</td>\n",
       "      <td>15.5</td>\n",
       "    </tr>\n",
       "    <tr>\n",
       "      <th>3627</th>\n",
       "      <td>20.2</td>\n",
       "      <td>19.4</td>\n",
       "      <td>15.5</td>\n",
       "      <td>14.1</td>\n",
       "    </tr>\n",
       "    <tr>\n",
       "      <th>3628</th>\n",
       "      <td>19.4</td>\n",
       "      <td>15.5</td>\n",
       "      <td>14.1</td>\n",
       "      <td>11</td>\n",
       "    </tr>\n",
       "    <tr>\n",
       "      <th>3629</th>\n",
       "      <td>15.5</td>\n",
       "      <td>14.1</td>\n",
       "      <td>11</td>\n",
       "      <td>11.1</td>\n",
       "    </tr>\n",
       "    <tr>\n",
       "      <th>3630</th>\n",
       "      <td>14.1</td>\n",
       "      <td>11</td>\n",
       "      <td>11.1</td>\n",
       "      <td>14</td>\n",
       "    </tr>\n",
       "    <tr>\n",
       "      <th>3631</th>\n",
       "      <td>11</td>\n",
       "      <td>11.1</td>\n",
       "      <td>14</td>\n",
       "      <td>11.4</td>\n",
       "    </tr>\n",
       "    <tr>\n",
       "      <th>3632</th>\n",
       "      <td>11.1</td>\n",
       "      <td>14</td>\n",
       "      <td>11.4</td>\n",
       "      <td>12.5</td>\n",
       "    </tr>\n",
       "    <tr>\n",
       "      <th>3633</th>\n",
       "      <td>14</td>\n",
       "      <td>11.4</td>\n",
       "      <td>12.5</td>\n",
       "      <td>13.4</td>\n",
       "    </tr>\n",
       "    <tr>\n",
       "      <th>3634</th>\n",
       "      <td>11.4</td>\n",
       "      <td>12.5</td>\n",
       "      <td>13.4</td>\n",
       "      <td>13.6</td>\n",
       "    </tr>\n",
       "    <tr>\n",
       "      <th>3635</th>\n",
       "      <td>12.5</td>\n",
       "      <td>13.4</td>\n",
       "      <td>13.6</td>\n",
       "      <td>13.9</td>\n",
       "    </tr>\n",
       "    <tr>\n",
       "      <th>3636</th>\n",
       "      <td>13.4</td>\n",
       "      <td>13.6</td>\n",
       "      <td>13.9</td>\n",
       "      <td>17.2</td>\n",
       "    </tr>\n",
       "    <tr>\n",
       "      <th>3637</th>\n",
       "      <td>13.6</td>\n",
       "      <td>13.9</td>\n",
       "      <td>17.2</td>\n",
       "      <td>14.7</td>\n",
       "    </tr>\n",
       "    <tr>\n",
       "      <th>3638</th>\n",
       "      <td>13.9</td>\n",
       "      <td>17.2</td>\n",
       "      <td>14.7</td>\n",
       "      <td>15.4</td>\n",
       "    </tr>\n",
       "    <tr>\n",
       "      <th>3639</th>\n",
       "      <td>17.2</td>\n",
       "      <td>14.7</td>\n",
       "      <td>15.4</td>\n",
       "      <td>13.1</td>\n",
       "    </tr>\n",
       "    <tr>\n",
       "      <th>3640</th>\n",
       "      <td>14.7</td>\n",
       "      <td>15.4</td>\n",
       "      <td>13.1</td>\n",
       "      <td>13.2</td>\n",
       "    </tr>\n",
       "    <tr>\n",
       "      <th>3641</th>\n",
       "      <td>15.4</td>\n",
       "      <td>13.1</td>\n",
       "      <td>13.2</td>\n",
       "      <td>13.9</td>\n",
       "    </tr>\n",
       "    <tr>\n",
       "      <th>3642</th>\n",
       "      <td>13.1</td>\n",
       "      <td>13.2</td>\n",
       "      <td>13.9</td>\n",
       "      <td>10</td>\n",
       "    </tr>\n",
       "    <tr>\n",
       "      <th>3643</th>\n",
       "      <td>13.2</td>\n",
       "      <td>13.9</td>\n",
       "      <td>10</td>\n",
       "      <td>12.9</td>\n",
       "    </tr>\n",
       "    <tr>\n",
       "      <th>3644</th>\n",
       "      <td>13.9</td>\n",
       "      <td>10</td>\n",
       "      <td>12.9</td>\n",
       "      <td>14.6</td>\n",
       "    </tr>\n",
       "    <tr>\n",
       "      <th>3645</th>\n",
       "      <td>10</td>\n",
       "      <td>12.9</td>\n",
       "      <td>14.6</td>\n",
       "      <td>14</td>\n",
       "    </tr>\n",
       "    <tr>\n",
       "      <th>3646</th>\n",
       "      <td>12.9</td>\n",
       "      <td>14.6</td>\n",
       "      <td>14</td>\n",
       "      <td>13.6</td>\n",
       "    </tr>\n",
       "    <tr>\n",
       "      <th>3647</th>\n",
       "      <td>14.6</td>\n",
       "      <td>14</td>\n",
       "      <td>13.6</td>\n",
       "      <td>13.5</td>\n",
       "    </tr>\n",
       "    <tr>\n",
       "      <th>3648</th>\n",
       "      <td>14</td>\n",
       "      <td>13.6</td>\n",
       "      <td>13.5</td>\n",
       "      <td>15.7</td>\n",
       "    </tr>\n",
       "    <tr>\n",
       "      <th>3649</th>\n",
       "      <td>13.6</td>\n",
       "      <td>13.5</td>\n",
       "      <td>15.7</td>\n",
       "      <td>13</td>\n",
       "    </tr>\n",
       "  </tbody>\n",
       "</table>\n",
       "<p>3650 rows × 4 columns</p>\n",
       "</div>"
      ],
      "text/plain": [
       "       t-2   t-1     t   t+1\n",
       "0      NaN   NaN   NaN  20.7\n",
       "1      NaN   NaN  20.7  17.9\n",
       "2      NaN  20.7  17.9  18.8\n",
       "3     20.7  17.9  18.8  14.6\n",
       "4     17.9  18.8  14.6  15.8\n",
       "5     18.8  14.6  15.8  15.8\n",
       "6     14.6  15.8  15.8  15.8\n",
       "7     15.8  15.8  15.8  17.4\n",
       "8     15.8  15.8  17.4  21.8\n",
       "9     15.8  17.4  21.8    20\n",
       "10    17.4  21.8    20  16.2\n",
       "11    21.8    20  16.2  13.3\n",
       "12      20  16.2  13.3  16.7\n",
       "13    16.2  13.3  16.7  21.5\n",
       "14    13.3  16.7  21.5    25\n",
       "15    16.7  21.5    25  20.7\n",
       "16    21.5    25  20.7  20.6\n",
       "17      25  20.7  20.6  24.8\n",
       "18    20.7  20.6  24.8  17.7\n",
       "19    20.6  24.8  17.7  15.5\n",
       "20    24.8  17.7  15.5  18.2\n",
       "21    17.7  15.5  18.2  12.1\n",
       "22    15.5  18.2  12.1  14.4\n",
       "23    18.2  12.1  14.4    16\n",
       "24    12.1  14.4    16  16.5\n",
       "25    14.4    16  16.5  18.7\n",
       "26      16  16.5  18.7  19.4\n",
       "27    16.5  18.7  19.4  17.2\n",
       "28    18.7  19.4  17.2  15.5\n",
       "29    19.4  17.2  15.5  15.1\n",
       "...    ...   ...   ...   ...\n",
       "3620  14.7  12.7  13.3  13.2\n",
       "3621  12.7  13.3  13.2  16.2\n",
       "3622  13.3  13.2  16.2  17.3\n",
       "3623  13.2  16.2  17.3  20.5\n",
       "3624  16.2  17.3  20.5  20.2\n",
       "3625  17.3  20.5  20.2  19.4\n",
       "3626  20.5  20.2  19.4  15.5\n",
       "3627  20.2  19.4  15.5  14.1\n",
       "3628  19.4  15.5  14.1    11\n",
       "3629  15.5  14.1    11  11.1\n",
       "3630  14.1    11  11.1    14\n",
       "3631    11  11.1    14  11.4\n",
       "3632  11.1    14  11.4  12.5\n",
       "3633    14  11.4  12.5  13.4\n",
       "3634  11.4  12.5  13.4  13.6\n",
       "3635  12.5  13.4  13.6  13.9\n",
       "3636  13.4  13.6  13.9  17.2\n",
       "3637  13.6  13.9  17.2  14.7\n",
       "3638  13.9  17.2  14.7  15.4\n",
       "3639  17.2  14.7  15.4  13.1\n",
       "3640  14.7  15.4  13.1  13.2\n",
       "3641  15.4  13.1  13.2  13.9\n",
       "3642  13.1  13.2  13.9    10\n",
       "3643  13.2  13.9    10  12.9\n",
       "3644  13.9    10  12.9  14.6\n",
       "3645    10  12.9  14.6    14\n",
       "3646  12.9  14.6    14  13.6\n",
       "3647  14.6    14  13.6  13.5\n",
       "3648    14  13.6  13.5  15.7\n",
       "3649  13.6  13.5  15.7    13\n",
       "\n",
       "[3650 rows x 4 columns]"
      ]
     },
     "execution_count": 54,
     "metadata": {},
     "output_type": "execute_result"
    }
   ],
   "source": [
    "dataframe"
   ]
  },
  {
   "cell_type": "markdown",
   "metadata": {
    "hidden": true
   },
   "source": [
    "Again, you can see that we must discard the first few rows that do not have enough data to\n",
    "train a supervised model. A dificulty with the sliding window approach is how large to make\n",
    "the window for your problem. Perhaps a good starting point is to perform a sensitivity analysis\n",
    "and try a suite of different window widths to in turn create a suite of different views of your\n",
    "dataset and see which results in better performing models. There will be a point of diminishing\n",
    "returns. Additionally, why stop with a linear window? Perhaps you need a lag value from last week,\n",
    "last month, and last year. Again, this comes down to the specific domain. In the case of the\n",
    "temperature dataset, a lag value from the same day in the previous year or previous few years\n",
    "may be useful. We can do more with a window than include the raw values. In the next section,\n",
    "we'll look at including features that summarize statistics across the window."
   ]
  },
  {
   "cell_type": "markdown",
   "metadata": {
    "hidden": true
   },
   "source": [
    "**Rolling Window Statistics**"
   ]
  },
  {
   "cell_type": "markdown",
   "metadata": {
    "hidden": true
   },
   "source": [
    "A step beyond adding raw lagged values is to add a summary of the values at previous time\n",
    "steps. We can calculate summary statistics across the values in the sliding window and include\n",
    "these as features in our dataset. Perhaps the most useful is the mean of the previous few values,\n",
    "also called the ```rolling mean```.\n",
    "We can calculate the mean of the current and previous values and use that to predict the\n",
    "next value. For the temperature data, we would have to wait 3 time steps before we had 2\n",
    "values to take the average of before we could use that value to predict a 3rd value. For example:"
   ]
  },
  {
   "cell_type": "markdown",
   "metadata": {
    "hidden": true
   },
   "source": [
    "![](roll_window.PNG)"
   ]
  },
  {
   "cell_type": "markdown",
   "metadata": {
    "hidden": true
   },
   "source": [
    "Pandas provides a ```rolling()``` function that creates a new data structure with the window\n",
    "of values at each time step. We can then perform statistical functions on the window of values\n",
    "collected for each time step, such as calculating the mean. First, the series must be shifted.\n",
    "Then the rolling dataset can be created and the mean values calculated on each window of two\n",
    "values. Here are the values in the first three rolling windows:"
   ]
  },
  {
   "cell_type": "code",
   "execution_count": 59,
   "metadata": {
    "hidden": true
   },
   "outputs": [],
   "source": [
    "temps = pd.DataFrame(series.values)"
   ]
  },
  {
   "cell_type": "code",
   "execution_count": 60,
   "metadata": {
    "hidden": true
   },
   "outputs": [],
   "source": [
    "shifted = temps.shift(1)"
   ]
  },
  {
   "cell_type": "code",
   "execution_count": 61,
   "metadata": {
    "hidden": true
   },
   "outputs": [],
   "source": [
    "window = shifted.rolling(window=2)"
   ]
  },
  {
   "cell_type": "code",
   "execution_count": 62,
   "metadata": {
    "hidden": true
   },
   "outputs": [],
   "source": [
    "means = window.mean()"
   ]
  },
  {
   "cell_type": "code",
   "execution_count": 63,
   "metadata": {
    "hidden": true
   },
   "outputs": [],
   "source": [
    "dataframe = pd.concat([means, temps], axis=1)"
   ]
  },
  {
   "cell_type": "code",
   "execution_count": 64,
   "metadata": {
    "hidden": true
   },
   "outputs": [],
   "source": [
    "dataframe.columns = ['mean(t-1,t)', 't+1']"
   ]
  },
  {
   "cell_type": "code",
   "execution_count": 65,
   "metadata": {
    "hidden": true
   },
   "outputs": [
    {
     "name": "stdout",
     "output_type": "stream",
     "text": [
      "  mean(t-1,t)   t+1\n",
      "0         NaN  20.7\n",
      "1        20.7  17.9\n",
      "2        17.9  18.8\n",
      "3        18.8  14.6\n",
      "4        14.6  15.8\n"
     ]
    }
   ],
   "source": [
    "print(dataframe.head(5))"
   ]
  },
  {
   "cell_type": "markdown",
   "metadata": {
    "hidden": true
   },
   "source": [
    "There are more statistics we can calculate and even different mathematical ways of calculating\n",
    "the definition of the window. Below is another example that shows a window width of 3 and a\n",
    "dataset comprised of more summary statistics, specifically the minimum, mean, and maximum\n",
    "value in the window. You can see in the code that we are explicitly specifying the sliding window width as a\n",
    "named variable. This allows us to use it both in calculating the correct shift of the series and in\n",
    "specifying the width of the window to the rolling() function. In this case, the window width of 3 means we must shift the series forward by 2 time steps. This makes the first two rows NaN. Next, we need to calculate the window statistics with 3\n",
    "values per window. It takes 3 rows before we even have enough data from the series in the\n",
    "window to start calculating statistics. The values in the first 5 windows are as follows:"
   ]
  },
  {
   "cell_type": "code",
   "execution_count": 71,
   "metadata": {
    "hidden": true
   },
   "outputs": [],
   "source": [
    "temps = pd.DataFrame(series.values)\n",
    "width = 3\n",
    "shifted = temps.shift(width - 1)\n",
    "window = shifted.rolling(window=width)\n",
    "dataframe = pd.concat([window.min(), window.mean(), window.max(), temps], axis=1)\n",
    "dataframe.columns = ['min', 'mean', 'max', 't+1']"
   ]
  },
  {
   "cell_type": "code",
   "execution_count": 72,
   "metadata": {
    "hidden": true
   },
   "outputs": [
    {
     "data": {
      "text/html": [
       "<div>\n",
       "<style scoped>\n",
       "    .dataframe tbody tr th:only-of-type {\n",
       "        vertical-align: middle;\n",
       "    }\n",
       "\n",
       "    .dataframe tbody tr th {\n",
       "        vertical-align: top;\n",
       "    }\n",
       "\n",
       "    .dataframe thead th {\n",
       "        text-align: right;\n",
       "    }\n",
       "</style>\n",
       "<table border=\"1\" class=\"dataframe\">\n",
       "  <thead>\n",
       "    <tr style=\"text-align: right;\">\n",
       "      <th></th>\n",
       "      <th>min</th>\n",
       "      <th>mean</th>\n",
       "      <th>max</th>\n",
       "      <th>t+1</th>\n",
       "    </tr>\n",
       "  </thead>\n",
       "  <tbody>\n",
       "    <tr>\n",
       "      <th>0</th>\n",
       "      <td>NaN</td>\n",
       "      <td>NaN</td>\n",
       "      <td>NaN</td>\n",
       "      <td>20.7</td>\n",
       "    </tr>\n",
       "    <tr>\n",
       "      <th>1</th>\n",
       "      <td>NaN</td>\n",
       "      <td>NaN</td>\n",
       "      <td>NaN</td>\n",
       "      <td>17.9</td>\n",
       "    </tr>\n",
       "    <tr>\n",
       "      <th>2</th>\n",
       "      <td>20.7</td>\n",
       "      <td>20.7</td>\n",
       "      <td>20.7</td>\n",
       "      <td>18.8</td>\n",
       "    </tr>\n",
       "    <tr>\n",
       "      <th>3</th>\n",
       "      <td>17.9</td>\n",
       "      <td>17.9</td>\n",
       "      <td>17.9</td>\n",
       "      <td>14.6</td>\n",
       "    </tr>\n",
       "    <tr>\n",
       "      <th>4</th>\n",
       "      <td>18.8</td>\n",
       "      <td>18.8</td>\n",
       "      <td>18.8</td>\n",
       "      <td>15.8</td>\n",
       "    </tr>\n",
       "  </tbody>\n",
       "</table>\n",
       "</div>"
      ],
      "text/plain": [
       "    min  mean   max   t+1\n",
       "0   NaN   NaN   NaN  20.7\n",
       "1   NaN   NaN   NaN  17.9\n",
       "2  20.7  20.7  20.7  18.8\n",
       "3  17.9  17.9  17.9  14.6\n",
       "4  18.8  18.8  18.8  15.8"
      ]
     },
     "execution_count": 72,
     "metadata": {},
     "output_type": "execute_result"
    }
   ],
   "source": [
    "dataframe.head()"
   ]
  },
  {
   "cell_type": "markdown",
   "metadata": {
    "hidden": true
   },
   "source": [
    "**Expanding Window Statistics**"
   ]
  },
  {
   "cell_type": "markdown",
   "metadata": {
    "hidden": true
   },
   "source": [
    "Another type of window that may be useful includes all previous data in the series. This is\n",
    "called an expanding window and can help with keeping track of the bounds of observable data.\n",
    "Like the ```rolling() function``` on DataFrame, Pandas provides an ```expanding()``` function that\n",
    "collects sets of all prior values for each time step."
   ]
  },
  {
   "cell_type": "markdown",
   "metadata": {
    "hidden": true
   },
   "source": [
    "These lists of prior numbers can be summarized and included as new features."
   ]
  },
  {
   "cell_type": "code",
   "execution_count": 75,
   "metadata": {
    "hidden": true
   },
   "outputs": [],
   "source": [
    "temps = pd.DataFrame(series.values)\n",
    "window = temps.expanding()"
   ]
  },
  {
   "cell_type": "code",
   "execution_count": 77,
   "metadata": {
    "collapsed": true,
    "hidden": true
   },
   "outputs": [
    {
     "data": {
      "text/html": [
       "<div>\n",
       "<style scoped>\n",
       "    .dataframe tbody tr th:only-of-type {\n",
       "        vertical-align: middle;\n",
       "    }\n",
       "\n",
       "    .dataframe tbody tr th {\n",
       "        vertical-align: top;\n",
       "    }\n",
       "\n",
       "    .dataframe thead th {\n",
       "        text-align: right;\n",
       "    }\n",
       "</style>\n",
       "<table border=\"1\" class=\"dataframe\">\n",
       "  <thead>\n",
       "    <tr style=\"text-align: right;\">\n",
       "      <th></th>\n",
       "      <th>0</th>\n",
       "    </tr>\n",
       "  </thead>\n",
       "  <tbody>\n",
       "    <tr>\n",
       "      <th>0</th>\n",
       "      <td>20.7</td>\n",
       "    </tr>\n",
       "    <tr>\n",
       "      <th>1</th>\n",
       "      <td>17.9</td>\n",
       "    </tr>\n",
       "    <tr>\n",
       "      <th>2</th>\n",
       "      <td>18.8</td>\n",
       "    </tr>\n",
       "    <tr>\n",
       "      <th>3</th>\n",
       "      <td>14.6</td>\n",
       "    </tr>\n",
       "    <tr>\n",
       "      <th>4</th>\n",
       "      <td>15.8</td>\n",
       "    </tr>\n",
       "    <tr>\n",
       "      <th>5</th>\n",
       "      <td>15.8</td>\n",
       "    </tr>\n",
       "    <tr>\n",
       "      <th>6</th>\n",
       "      <td>15.8</td>\n",
       "    </tr>\n",
       "    <tr>\n",
       "      <th>7</th>\n",
       "      <td>17.4</td>\n",
       "    </tr>\n",
       "    <tr>\n",
       "      <th>8</th>\n",
       "      <td>21.8</td>\n",
       "    </tr>\n",
       "    <tr>\n",
       "      <th>9</th>\n",
       "      <td>20</td>\n",
       "    </tr>\n",
       "    <tr>\n",
       "      <th>10</th>\n",
       "      <td>16.2</td>\n",
       "    </tr>\n",
       "    <tr>\n",
       "      <th>11</th>\n",
       "      <td>13.3</td>\n",
       "    </tr>\n",
       "    <tr>\n",
       "      <th>12</th>\n",
       "      <td>16.7</td>\n",
       "    </tr>\n",
       "    <tr>\n",
       "      <th>13</th>\n",
       "      <td>21.5</td>\n",
       "    </tr>\n",
       "    <tr>\n",
       "      <th>14</th>\n",
       "      <td>25</td>\n",
       "    </tr>\n",
       "    <tr>\n",
       "      <th>15</th>\n",
       "      <td>20.7</td>\n",
       "    </tr>\n",
       "    <tr>\n",
       "      <th>16</th>\n",
       "      <td>20.6</td>\n",
       "    </tr>\n",
       "    <tr>\n",
       "      <th>17</th>\n",
       "      <td>24.8</td>\n",
       "    </tr>\n",
       "    <tr>\n",
       "      <th>18</th>\n",
       "      <td>17.7</td>\n",
       "    </tr>\n",
       "    <tr>\n",
       "      <th>19</th>\n",
       "      <td>15.5</td>\n",
       "    </tr>\n",
       "    <tr>\n",
       "      <th>20</th>\n",
       "      <td>18.2</td>\n",
       "    </tr>\n",
       "    <tr>\n",
       "      <th>21</th>\n",
       "      <td>12.1</td>\n",
       "    </tr>\n",
       "    <tr>\n",
       "      <th>22</th>\n",
       "      <td>14.4</td>\n",
       "    </tr>\n",
       "    <tr>\n",
       "      <th>23</th>\n",
       "      <td>16</td>\n",
       "    </tr>\n",
       "    <tr>\n",
       "      <th>24</th>\n",
       "      <td>16.5</td>\n",
       "    </tr>\n",
       "    <tr>\n",
       "      <th>25</th>\n",
       "      <td>18.7</td>\n",
       "    </tr>\n",
       "    <tr>\n",
       "      <th>26</th>\n",
       "      <td>19.4</td>\n",
       "    </tr>\n",
       "    <tr>\n",
       "      <th>27</th>\n",
       "      <td>17.2</td>\n",
       "    </tr>\n",
       "    <tr>\n",
       "      <th>28</th>\n",
       "      <td>15.5</td>\n",
       "    </tr>\n",
       "    <tr>\n",
       "      <th>29</th>\n",
       "      <td>15.1</td>\n",
       "    </tr>\n",
       "    <tr>\n",
       "      <th>...</th>\n",
       "      <td>...</td>\n",
       "    </tr>\n",
       "    <tr>\n",
       "      <th>3620</th>\n",
       "      <td>13.2</td>\n",
       "    </tr>\n",
       "    <tr>\n",
       "      <th>3621</th>\n",
       "      <td>16.2</td>\n",
       "    </tr>\n",
       "    <tr>\n",
       "      <th>3622</th>\n",
       "      <td>17.3</td>\n",
       "    </tr>\n",
       "    <tr>\n",
       "      <th>3623</th>\n",
       "      <td>20.5</td>\n",
       "    </tr>\n",
       "    <tr>\n",
       "      <th>3624</th>\n",
       "      <td>20.2</td>\n",
       "    </tr>\n",
       "    <tr>\n",
       "      <th>3625</th>\n",
       "      <td>19.4</td>\n",
       "    </tr>\n",
       "    <tr>\n",
       "      <th>3626</th>\n",
       "      <td>15.5</td>\n",
       "    </tr>\n",
       "    <tr>\n",
       "      <th>3627</th>\n",
       "      <td>14.1</td>\n",
       "    </tr>\n",
       "    <tr>\n",
       "      <th>3628</th>\n",
       "      <td>11</td>\n",
       "    </tr>\n",
       "    <tr>\n",
       "      <th>3629</th>\n",
       "      <td>11.1</td>\n",
       "    </tr>\n",
       "    <tr>\n",
       "      <th>3630</th>\n",
       "      <td>14</td>\n",
       "    </tr>\n",
       "    <tr>\n",
       "      <th>3631</th>\n",
       "      <td>11.4</td>\n",
       "    </tr>\n",
       "    <tr>\n",
       "      <th>3632</th>\n",
       "      <td>12.5</td>\n",
       "    </tr>\n",
       "    <tr>\n",
       "      <th>3633</th>\n",
       "      <td>13.4</td>\n",
       "    </tr>\n",
       "    <tr>\n",
       "      <th>3634</th>\n",
       "      <td>13.6</td>\n",
       "    </tr>\n",
       "    <tr>\n",
       "      <th>3635</th>\n",
       "      <td>13.9</td>\n",
       "    </tr>\n",
       "    <tr>\n",
       "      <th>3636</th>\n",
       "      <td>17.2</td>\n",
       "    </tr>\n",
       "    <tr>\n",
       "      <th>3637</th>\n",
       "      <td>14.7</td>\n",
       "    </tr>\n",
       "    <tr>\n",
       "      <th>3638</th>\n",
       "      <td>15.4</td>\n",
       "    </tr>\n",
       "    <tr>\n",
       "      <th>3639</th>\n",
       "      <td>13.1</td>\n",
       "    </tr>\n",
       "    <tr>\n",
       "      <th>3640</th>\n",
       "      <td>13.2</td>\n",
       "    </tr>\n",
       "    <tr>\n",
       "      <th>3641</th>\n",
       "      <td>13.9</td>\n",
       "    </tr>\n",
       "    <tr>\n",
       "      <th>3642</th>\n",
       "      <td>10</td>\n",
       "    </tr>\n",
       "    <tr>\n",
       "      <th>3643</th>\n",
       "      <td>12.9</td>\n",
       "    </tr>\n",
       "    <tr>\n",
       "      <th>3644</th>\n",
       "      <td>14.6</td>\n",
       "    </tr>\n",
       "    <tr>\n",
       "      <th>3645</th>\n",
       "      <td>14</td>\n",
       "    </tr>\n",
       "    <tr>\n",
       "      <th>3646</th>\n",
       "      <td>13.6</td>\n",
       "    </tr>\n",
       "    <tr>\n",
       "      <th>3647</th>\n",
       "      <td>13.5</td>\n",
       "    </tr>\n",
       "    <tr>\n",
       "      <th>3648</th>\n",
       "      <td>15.7</td>\n",
       "    </tr>\n",
       "    <tr>\n",
       "      <th>3649</th>\n",
       "      <td>13</td>\n",
       "    </tr>\n",
       "  </tbody>\n",
       "</table>\n",
       "<p>3650 rows × 1 columns</p>\n",
       "</div>"
      ],
      "text/plain": [
       "         0\n",
       "0     20.7\n",
       "1     17.9\n",
       "2     18.8\n",
       "3     14.6\n",
       "4     15.8\n",
       "5     15.8\n",
       "6     15.8\n",
       "7     17.4\n",
       "8     21.8\n",
       "9       20\n",
       "10    16.2\n",
       "11    13.3\n",
       "12    16.7\n",
       "13    21.5\n",
       "14      25\n",
       "15    20.7\n",
       "16    20.6\n",
       "17    24.8\n",
       "18    17.7\n",
       "19    15.5\n",
       "20    18.2\n",
       "21    12.1\n",
       "22    14.4\n",
       "23      16\n",
       "24    16.5\n",
       "25    18.7\n",
       "26    19.4\n",
       "27    17.2\n",
       "28    15.5\n",
       "29    15.1\n",
       "...    ...\n",
       "3620  13.2\n",
       "3621  16.2\n",
       "3622  17.3\n",
       "3623  20.5\n",
       "3624  20.2\n",
       "3625  19.4\n",
       "3626  15.5\n",
       "3627  14.1\n",
       "3628    11\n",
       "3629  11.1\n",
       "3630    14\n",
       "3631  11.4\n",
       "3632  12.5\n",
       "3633  13.4\n",
       "3634  13.6\n",
       "3635  13.9\n",
       "3636  17.2\n",
       "3637  14.7\n",
       "3638  15.4\n",
       "3639  13.1\n",
       "3640  13.2\n",
       "3641  13.9\n",
       "3642    10\n",
       "3643  12.9\n",
       "3644  14.6\n",
       "3645    14\n",
       "3646  13.6\n",
       "3647  13.5\n",
       "3648  15.7\n",
       "3649    13\n",
       "\n",
       "[3650 rows x 1 columns]"
      ]
     },
     "execution_count": 77,
     "metadata": {},
     "output_type": "execute_result"
    }
   ],
   "source": [
    "window.mean()"
   ]
  },
  {
   "cell_type": "code",
   "execution_count": 74,
   "metadata": {
    "hidden": true
   },
   "outputs": [
    {
     "name": "stdout",
     "output_type": "stream",
     "text": [
      "    min  mean   max   t+1\n",
      "0  20.7  20.7  20.7  17.9\n",
      "1  17.9  17.9  17.9  18.8\n",
      "2  18.8  18.8  18.8  14.6\n",
      "3  14.6  14.6  14.6  15.8\n",
      "4  15.8  15.8  15.8  15.8\n"
     ]
    }
   ],
   "source": [
    "dataframe = pd.concat([window.min(), window.mean(), window.max(), temps.shift(-1)], axis=1)\n",
    "dataframe.columns = ['min', 'mean', 'max', 't+1']\n",
    "print(dataframe.head(5))"
   ]
  },
  {
   "cell_type": "markdown",
   "metadata": {
    "hidden": true
   },
   "source": [
    "> these things have error in them, correct please"
   ]
  },
  {
   "cell_type": "markdown",
   "metadata": {},
   "source": [
    "##### Chapter 6: Data Visualization\n"
   ]
  },
  {
   "cell_type": "markdown",
   "metadata": {},
   "source": [
    "Time series lends itself naturally to visualization. Line plots of observations over time are\n",
    "popular, but there is a suite of other plots that you can use to learn more about your problem.\n",
    "The more you learn about your data, the more likely you are to develop a better forecasting\n",
    "model."
   ]
  },
  {
   "cell_type": "markdown",
   "metadata": {},
   "source": [
    "Specifically, after completing this tutorial, you will know:\n",
    "- How to explore the temporal structure of time series with line plots, lag plots, and\n",
    "autocorrelation plots.\n",
    "- How to understand the distribution of observations using histograms and density plots.\n",
    "- How to tease out the change in distribution over intervals using box and whisker plots\n",
    "and heat map plots."
   ]
  },
  {
   "cell_type": "markdown",
   "metadata": {},
   "source": [
    "In this tutorial, we will take a look at 6\n",
    "difierent types of visualizations that you can use on your own time series data. They are:\n",
    "\n",
    "1. Line Plots.\n",
    "2. Histograms and Density Plots.\n",
    "3. Box and Whisker Plots.\n",
    "4. Heat Maps.\n",
    "5. Lag Plots or Scatter Plots.\n",
    "6. Autocorrelation Plots."
   ]
  },
  {
   "cell_type": "code",
   "execution_count": 145,
   "metadata": {},
   "outputs": [],
   "source": [
    "series = pd.read_csv('./daily-minimum-temperatures-in-me.csv', header=0, index_col=0, parse_dates=True, squeeze=True)"
   ]
  },
  {
   "cell_type": "code",
   "execution_count": 146,
   "metadata": {
    "scrolled": true
   },
   "outputs": [
    {
     "data": {
      "text/plain": [
       "pandas.core.series.Series"
      ]
     },
     "execution_count": 146,
     "metadata": {},
     "output_type": "execute_result"
    }
   ],
   "source": [
    "type(series)"
   ]
  },
  {
   "cell_type": "code",
   "execution_count": 148,
   "metadata": {},
   "outputs": [
    {
     "data": {
      "text/plain": [
       "Date\n",
       "1981-01-01    20.7\n",
       "1981-02-01    17.9\n",
       "1981-03-01    18.8\n",
       "1981-04-01    14.6\n",
       "1981-05-01    15.8\n",
       "Name: min_temp, dtype: object"
      ]
     },
     "execution_count": 148,
     "metadata": {},
     "output_type": "execute_result"
    }
   ],
   "source": [
    "series.head()"
   ]
  },
  {
   "cell_type": "code",
   "execution_count": 151,
   "metadata": {
    "scrolled": true
   },
   "outputs": [
    {
     "data": {
      "text/plain": [
       "DatetimeIndex(['1981-01-01', '1981-02-01', '1981-03-01', '1981-04-01',\n",
       "               '1981-05-01', '1981-06-01', '1981-07-01', '1981-08-01',\n",
       "               '1981-09-01', '1981-10-01',\n",
       "               ...\n",
       "               '1990-12-22', '1990-12-23', '1990-12-24', '1990-12-25',\n",
       "               '1990-12-26', '1990-12-27', '1990-12-28', '1990-12-29',\n",
       "               '1990-12-30', '1990-12-31'],\n",
       "              dtype='datetime64[ns]', name='Date', length=3650, freq=None)"
      ]
     },
     "execution_count": 151,
     "metadata": {},
     "output_type": "execute_result"
    }
   ],
   "source": [
    "series.index"
   ]
  },
  {
   "cell_type": "code",
   "execution_count": null,
   "metadata": {},
   "outputs": [],
   "source": []
  },
  {
   "cell_type": "code",
   "execution_count": null,
   "metadata": {},
   "outputs": [],
   "source": []
  },
  {
   "cell_type": "code",
   "execution_count": null,
   "metadata": {},
   "outputs": [],
   "source": []
  },
  {
   "cell_type": "code",
   "execution_count": null,
   "metadata": {},
   "outputs": [],
   "source": []
  }
 ],
 "metadata": {
  "kernelspec": {
   "display_name": "Python 3",
   "language": "python",
   "name": "python3"
  },
  "language_info": {
   "codemirror_mode": {
    "name": "ipython",
    "version": 3
   },
   "file_extension": ".py",
   "mimetype": "text/x-python",
   "name": "python",
   "nbconvert_exporter": "python",
   "pygments_lexer": "ipython3",
   "version": "3.5.4"
  }
 },
 "nbformat": 4,
 "nbformat_minor": 2
}
